{
 "cells": [
  {
   "cell_type": "markdown",
   "id": "cd3331dd",
   "metadata": {},
   "source": [
    "# Geospatial Python: Representing and Processing Vector Geometries\n",
    "\n",
    "This notebook is part of a geospatial Python series that introduces how to work with vector geometries using libraries like Shapely, Fiona, and PyProj. \n",
    "\n",
    "## Overview\n",
    "We will cover:\n",
    "- Creating and analyzing vector geometries (points, lines, and polygons)\n",
    "- Performing spatial operations (buffer, intersection, and union)\n",
    "- Reading and writing shapefiles using Fiona\n",
    "- Performing coordinate transformations with PyProj"
   ]
  },
  {
   "cell_type": "markdown",
   "id": "7fb16366",
   "metadata": {},
   "source": [
    "## 1. Representing Vector Geometries: Points, Lines, and Polygons"
   ]
  },
  {
   "cell_type": "code",
   "execution_count": null,
   "id": "77beb829",
   "metadata": {},
   "outputs": [],
   "source": [
    "import os\n",
    "from shapely.geometry import Point, LineString, Polygon"
   ]
  },
  {
   "cell_type": "markdown",
   "id": "0a495280",
   "metadata": {},
   "source": [
    "### Points\n",
    "A `Point` represents a single coordinate in space. \n",
    "The following example creates two points and calculates the distance between them."
   ]
  },
  {
   "cell_type": "code",
   "execution_count": null,
   "id": "66886546",
   "metadata": {},
   "outputs": [],
   "source": [
    "point = Point(1, 1, 2)  # A 3D point (X, Y, Z)\n",
    "point_2 = Point(2, 2)  # A 2D point (X, Y)\n",
    "\n",
    "# Compute the Euclidean distance between the two points\n",
    "# Note: The distance is computed in 2D (ignoring Z)\n",
    "distance = point.distance(point_2)\n",
    "distance"
   ]
  },
  {
   "cell_type": "markdown",
   "id": "118b5e66",
   "metadata": {},
   "source": [
    "### Lines\n",
    "A `LineString` represents a sequence of points connected by straight-line segments.\n",
    "Below, we create a simple line and compute its length."
   ]
  },
  {
   "cell_type": "code",
   "execution_count": null,
   "id": "acbc075e",
   "metadata": {},
   "outputs": [],
   "source": [
    "line = LineString([(1, 1), (2, 3)])\n",
    "print(\"Line length:\", line.length)"
   ]
  },
  {
   "cell_type": "markdown",
   "id": "a26b2b19",
   "metadata": {},
   "source": [
    "### Polygons\n",
    "A `Polygon` is defined by a sequence of coordinates forming a closed shape.\n",
    "We define a polygon and compute its perimeter."
   ]
  },
  {
   "cell_type": "code",
   "execution_count": null,
   "id": "197cf001",
   "metadata": {},
   "outputs": [],
   "source": [
    "polygon = Polygon([(30, 10), (40, 40), (20, 40), (10, 20), (30, 10)])\n",
    "print(\"Polygon perimeter:\", polygon.length)"
   ]
  },
  {
   "cell_type": "markdown",
   "id": "54c4e639",
   "metadata": {},
   "source": [
    "## 2. Spatial Operations\n",
    "We will perform various spatial operations such as buffering, intersection, and union."
   ]
  },
  {
   "cell_type": "code",
   "execution_count": null,
   "id": "3fb43e7c",
   "metadata": {},
   "outputs": [],
   "source": [
    "new_point = Point(4, 4)\n",
    "new_line = LineString([(1, 1), (3, 3)])\n",
    "\n",
    "# Creating a buffer around the point\n",
    "buffer = new_point.buffer(distance=5)  # Creates a circular buffer\n",
    "\n",
    "# Creating a single-sided buffer around the line (when single_sided is True, a negative distance puts the buffer on the opposite side)\n",
    "line_buffer = new_line.buffer(distance=-3, single_sided=True)\n",
    "\n",
    "# Checking if a point is within a buffered region\n",
    "new_point_2 = Point(6, 1)\n",
    "is_within = new_point_2.within(buffer)\n",
    "print(\"Point within buffer:\", is_within)\n",
    "\n",
    "# Computing intersection of buffer and line buffer\n",
    "intersection = buffer.intersection(line_buffer)\n",
    "# print(intersection)\n",
    "\n",
    "# Computing union of two geometries\n",
    "union = line_buffer.union(new_line)\n",
    "print(\"Union result:\", union)"
   ]
  },
  {
   "cell_type": "markdown",
   "id": "5d4ed5b4",
   "metadata": {},
   "source": [
    "## 3. Reading and Writing Shapefiles with Fiona\n",
    "Fiona allows us to read and write geospatial data in shapefile format."
   ]
  },
  {
   "cell_type": "code",
   "execution_count": null,
   "id": "dfe14ca8",
   "metadata": {},
   "outputs": [],
   "source": [
    "import fiona\n",
    "\n",
    "# Define directory to store shapefiles\n",
    "dir = os.path.join(os.getcwd(), \"shp\")\n",
    "os.makedirs(dir, exist_ok=True)\n",
    "\n",
    "shapefile_path = os.path.join(dir, 'file.shp')\n",
    "\n",
    "# Define the schema for the shapefile\n",
    "schema = {\n",
    "    'geometry': 'Point',\n",
    "    'properties': {\n",
    "        'name': 'str',\n",
    "        'desc': 'str',\n",
    "    }\n",
    "}\n",
    "\n",
    "# Create a list of point features\n",
    "file_points = [\n",
    "    {'coordinates': (0, 0), 'name': 'Point 1', 'desc': 'This is point 1'},\n",
    "    {'coordinates': (1, 0), 'name': 'Point 2', 'desc': 'This is point 2'},\n",
    "    {'coordinates': (0, 1), 'name': 'Point 3', 'desc': 'This is point 3'},\n",
    "    {'coordinates': (1, 1), 'name': 'Point 4', 'desc': 'This is point 4'}\n",
    "]\n",
    "\n",
    "# Writing points to a shapefile\n",
    "with fiona.open(\n",
    "    shapefile_path, 'w', \n",
    "    schema=schema, \n",
    "    driver='ESRI Shapefile',\n",
    "    crs='EPSG:4326'\n",
    "    ) as file:\n",
    "    for item in file_points:\n",
    "        point = {\n",
    "            'geometry': {'type': 'Point', 'coordinates': item['coordinates']},\n",
    "            'properties': {'name': item['name'], 'desc': item['desc']}\n",
    "        }\n",
    "        file.write(point)\n",
    "\n",
    "# Reading from a shapefile\n",
    "with fiona.open(shapefile_path, 'r') as dst:\n",
    "    for feature in dst:\n",
    "        print(\"Feature:\", feature)"
   ]
  },
  {
   "cell_type": "markdown",
   "id": "5aa9f63e",
   "metadata": {},
   "source": [
    "## 4. Coordinate Transformations with PyProj\n",
    "PyProj is used for transforming coordinates between different coordinate reference systems (CRS)."
   ]
  },
  {
   "cell_type": "code",
   "execution_count": null,
   "id": "9f51aa82",
   "metadata": {},
   "outputs": [],
   "source": [
    "from pyproj import Transformer, CRS\n",
    "\n",
    "# Define a transformer from WGS 84 (EPSG:4326) to UTM Zone 30N (EPSG:32630)\n",
    "transformer = Transformer.from_crs('EPSG:4326', 'EPSG:32630', always_xy=True)\n",
    "\n",
    "# Convert coordinates from longitude/latitude to UTM\n",
    "x, y = transformer.transform(-1.570523, 6.684967)\n",
    "print(\"Transformed coordinates:\", x, y)\n",
    "\n",
    "# Retrieve and display CRS information\n",
    "crs = CRS.from_epsg(4326)\n",
    "print(\"CRS Info:\", crs)"
   ]
  }
 ],
 "metadata": {
  "jupytext": {
   "cell_metadata_filter": "-all",
   "main_language": "python",
   "notebook_metadata_filter": "-all"
  },
  "language_info": {
   "name": "python"
  }
 },
 "nbformat": 4,
 "nbformat_minor": 5
}
