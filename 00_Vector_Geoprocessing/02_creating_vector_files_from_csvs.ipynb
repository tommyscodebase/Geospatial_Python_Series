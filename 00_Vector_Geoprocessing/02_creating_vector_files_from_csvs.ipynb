{
 "cells": [
  {
   "cell_type": "markdown",
   "metadata": {},
   "source": [
    "# Creating Vector files from CSVs"
   ]
  },
  {
   "cell_type": "code",
   "execution_count": 1,
   "metadata": {},
   "outputs": [],
   "source": [
    "import os\n",
    "import pandas as pd\n",
    "import geopandas as gpd\n",
    "from shapely.geometry import Point, LineString, Polygon"
   ]
  },
  {
   "cell_type": "markdown",
   "metadata": {},
   "source": [
    "### Declaring Paths"
   ]
  },
  {
   "cell_type": "code",
   "execution_count": 2,
   "metadata": {},
   "outputs": [],
   "source": [
    "data_path = os.path.join(os.getcwd(), 'data', '02_data')\n",
    "output_path = os.path.join(os.getcwd(), 'output', '02_output')\n",
    "\n",
    "point_path = os.path.join(data_path, 'bus_stops.csv')\n",
    "routes_path = os.path.join(data_path, 'bus_routes.csv')\n",
    "zones_path = os.path.join(data_path, 'bus_zones.csv')"
   ]
  },
  {
   "cell_type": "markdown",
   "metadata": {},
   "source": [
    "### Creating Point Data"
   ]
  },
  {
   "cell_type": "code",
   "execution_count": 3,
   "metadata": {},
   "outputs": [],
   "source": [
    "points_data = pd.read_csv(point_path)\n",
    "\n",
    "# Converting to a GeoDataFrame\n",
    "points_gdf = gpd.GeoDataFrame(\n",
    "    points_data,\n",
    "    crs=\"EPSG:4326\",\n",
    "    geometry=gpd.points_from_xy(points_data.longitude, points_data.latitude)\n",
    ")\n",
    "\n",
    "points_name = os.path.join(output_path, 'bus_stops.gpkg')\n",
    "points_gdf.to_file(points_name, driver='GPKG')"
   ]
  },
  {
   "cell_type": "markdown",
   "metadata": {},
   "source": [
    "### Lines (groupby will discard all other columns)"
   ]
  },
  {
   "cell_type": "code",
   "execution_count": 4,
   "metadata": {},
   "outputs": [],
   "source": [
    "routes_data = pd.read_csv(routes_path)\n",
    "\n",
    "# Group the data by the route\n",
    "route_gdf = routes_data.groupby('route').apply(\n",
    "    lambda route: LineString(zip(route.longitude, route.latitude))\n",
    ").reset_index(name='geom')\n",
    "\n",
    "line_gdf = gpd.GeoDataFrame(\n",
    "    route_gdf, crs='EPSG:4326', geometry='geom'\n",
    ")\n",
    "\n",
    "line_name = os.path.join(output_path, 'bus_routes.gpkg')\n",
    "line_gdf.to_file(line_name, driver='GPKG')"
   ]
  },
  {
   "cell_type": "markdown",
   "metadata": {},
   "source": [
    "### Lines (all other columns preserved after grouping)"
   ]
  },
  {
   "cell_type": "code",
   "execution_count": 5,
   "metadata": {},
   "outputs": [],
   "source": [
    "# Group the data by the route\n",
    "route_gdf_2 = routes_data.groupby('route').agg({\n",
    "    'street': 'first',\n",
    "    'longitude': list,\n",
    "    'latitude': list,\n",
    "}).reset_index()\n",
    "\n",
    "route_gdf_2['geometry'] = route_gdf_2.apply(\n",
    "    lambda x: LineString(zip(x.longitude, x.latitude)), axis=1\n",
    ")\n",
    "\n",
    "route_gdf_2.drop(columns=['longitude', 'latitude'], inplace=True)\n",
    "\n",
    "line_2 = gpd.GeoDataFrame(\n",
    "    route_gdf_2, crs=\"EPSG:4326\", geometry=\"geometry\"\n",
    ")\n",
    "\n",
    "line_2_name = os.path.join(output_path, 'bus_routes_2.gpkg')\n",
    "line_2.to_file(line_2_name, driver='GPKG')"
   ]
  },
  {
   "cell_type": "markdown",
   "metadata": {},
   "source": [
    "### Polygons"
   ]
  },
  {
   "cell_type": "code",
   "execution_count": 6,
   "metadata": {},
   "outputs": [],
   "source": [
    "zone_data = pd.read_csv(zones_path)\n",
    "\n",
    "# Group by zone name\n",
    "zone_gdf = zone_data.groupby('zone_name').apply(\n",
    "    lambda x: Polygon(zip(x.longitude, x.latitude))\n",
    ").reset_index(name='geom')\n",
    "\n",
    "zones = gpd.GeoDataFrame(\n",
    "    zone_gdf, crs=\"EPSG:4326\", geometry=\"geom\"\n",
    ")\n",
    "\n",
    "zones_name = os.path.join(output_path, 'bus_zones.gpkg')\n",
    "zones.to_file(zones_name, driver='GPKG')"
   ]
  }
 ],
 "metadata": {
  "kernelspec": {
   "display_name": "st",
   "language": "python",
   "name": "python3"
  },
  "language_info": {
   "codemirror_mode": {
    "name": "ipython",
    "version": 3
   },
   "file_extension": ".py",
   "mimetype": "text/x-python",
   "name": "python",
   "nbconvert_exporter": "python",
   "pygments_lexer": "ipython3",
   "version": "3.8.18"
  }
 },
 "nbformat": 4,
 "nbformat_minor": 2
}
